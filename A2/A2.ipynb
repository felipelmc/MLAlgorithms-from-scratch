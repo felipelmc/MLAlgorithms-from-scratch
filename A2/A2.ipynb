{
 "cells": [
  {
   "cell_type": "markdown",
   "metadata": {},
   "source": [
    "**116083**"
   ]
  },
  {
   "cell_type": "markdown",
   "metadata": {},
   "source": [
    "# **Coursework 2**: Tecniques and Algorithms in Data Science"
   ]
  },
  {
   "cell_type": "code",
   "execution_count": 1,
   "metadata": {},
   "outputs": [],
   "source": [
    "import pandas as pd\n",
    "import numpy as np\n",
    "import matplotlib.pyplot as plt\n",
    "from sklearn.model_selection import train_test_split\n",
    "from sklearn.utils.validation import check_X_y"
   ]
  },
  {
   "cell_type": "markdown",
   "metadata": {},
   "source": [
    "## **Part 1:** Multi-Layer Perceptron for Regression"
   ]
  },
  {
   "cell_type": "markdown",
   "metadata": {},
   "source": [
    "**a)** Load the data into a pandas DataFrame, and get a scikit-lern compatible dataset. Use the \"target\" column as the target value."
   ]
  },
  {
   "cell_type": "code",
   "execution_count": 2,
   "metadata": {},
   "outputs": [],
   "source": [
    "# Import the dataset\n",
    "part1 = pd.read_table('Part 1.tsv')\n",
    "\n",
    "# I am going to use a smaller sample of the DataFrame to move on faster\n",
    "part1 = part1.sample(2000)\n",
    "\n",
    "# Split the columns used on X and the target used on y to train the model\n",
    "X = part1[['feat_0', 'feat_1', 'feat_2', 'feat_3', 'feat_4', 'feat_5']].to_numpy()\n",
    "y = part1['target'].to_numpy()"
   ]
  },
  {
   "cell_type": "markdown",
   "metadata": {},
   "source": [
    "**b)** Make a 70% / 30% split of the dataset for training and testing respectively."
   ]
  },
  {
   "cell_type": "code",
   "execution_count": 3,
   "metadata": {},
   "outputs": [],
   "source": [
    "# Split X and y into training and testing sets\n",
    "X_train, X_test, y_train, y_test = train_test_split(X, y, test_size = 0.3)"
   ]
  },
  {
   "cell_type": "markdown",
   "metadata": {},
   "source": [
    "**c)** Using numpy, create a scikit-learn regressor that implements a multilayer perceptron\n",
    "architecture with 5 hidden layers.\n",
    "* The dimensionality of each layer is your decision.\n",
    "* Each hidden layer must have a bias unit.\n",
    "* All activations should be the sigmoid function.\n",
    "* You must use the backpropagation algorithm to calculate the derivatives. \n",
    "* Use mini-batch gradient descent to update the weights.\n",
    "* The parameters of the estimator are the following:\n",
    "    - **learning_rate:** A float number that determines the learning rate used for updating the weights on the update step of the gradient descent.\n",
    "    - **batch_size:** An integer that determines the number of datapoints that are included in each mini-batch.\n",
    "    - **epochs**: An integer that determines the number of times the training goes through all the datapoints."
   ]
  },
  {
   "cell_type": "code",
   "execution_count": 4,
   "metadata": {},
   "outputs": [],
   "source": [
    "# Let us define some auxiliar functions to make the code more readable\n",
    "def sigmoid(z):\n",
    "    return 1 / (1 + np.exp(-z))\n",
    "\n",
    "def sigmoid_derivative(output):\n",
    "    return output * (1 - output)"
   ]
  },
  {
   "cell_type": "code",
   "execution_count": 5,
   "metadata": {},
   "outputs": [],
   "source": [
    "# Implementation of the Multi Layer Perceptron (for Regression) class for 5 hidden layers\n",
    "class MultiLayerPerceptronRegression():\n",
    "    def __init__(self, learning_rate=0.0001, batch_size=100, epochs=100, size_hidden=100):\n",
    "        self.learning_rate = learning_rate\n",
    "        self.batch_size = batch_size\n",
    "        self.epochs = epochs\n",
    "        self.size_hidden = size_hidden\n",
    "        self.weights = []\n",
    "        \n",
    "    def create_weights(self, inputDim, outputDim):\n",
    "        self.inputDim = inputDim\n",
    "        self.outputDim = outputDim\n",
    "        w = np.random.randn(inputDim, outputDim)\n",
    "        return w\n",
    "    \n",
    "    # implements the forward propagation\n",
    "    def forward(self, X):\n",
    "        # instantiates two empty lists for z e h functions, \n",
    "        # which will receive the results of each iteration \n",
    "        # on the forward propagation \n",
    "        self.z = [X]\n",
    "        self.activation = [self.z[-1]]\n",
    "        \n",
    "        for i in range(1,6):\n",
    "            self.z.append(self.activation[i-1].dot(self.weights[i-1])) # z_i = activation_i-1 @ W_i-1\n",
    "            SigmoidCalc = sigmoid(self.z[i])\n",
    "            self.activation.append(SigmoidCalc) # activation_i = sigmoid(z_i)\n",
    "            size = self.activation[i].shape[0]\n",
    "            self.activation[i] = np.c_[np.ones((size, 1)), self.activation[i]] # adding the bias unit\n",
    "        \n",
    "        self.z.append(self.activation[-1] @ self.weights[-1]) # z_6 = activation_6_5 @ W_6\n",
    "        self.activation.append(self.z[-1]) # activation_6 = z_6, and in this case (the output) we do not apply sigmoid\n",
    "        return self.activation[-1]\n",
    "        \n",
    "    # implements the backward propagation    \n",
    "    def backward(self, y_train):\n",
    "        self.difference = [self.activation[6] - y_train] # difference_0^(5) = h_6 - y_train, first error\n",
    "        self.dw = []\n",
    "        \n",
    "        for i in range(4, -1, -1):\n",
    "            dotProduct = self.difference[-1] @ self.weights[i+1][1:, :].T # dotProduct = difference_i^(5) @ weights_i+1\n",
    "            dotTodot = dotProduct * sigmoid_derivative(sigmoid(self.z[i+1])) # dotTodot = dotProduct * sigmoid'(z_i+1)\n",
    "            self.difference.append(dotTodot)\n",
    "        \n",
    "        self.difference.reverse()\n",
    "\n",
    "        self.dw = [self.activation[i].T.dot(self.difference[i]) for i in range(len(self.weights))]\n",
    "        \n",
    "        return self.dw\n",
    "    \n",
    "    # implements the update method\n",
    "    def update(self, dw):\n",
    "        self.weights = [w - (self.learning_rate * dw[i]) for i, w in enumerate(self.weights)]\n",
    "        return self.weights\n",
    "    \n",
    "    # implements the fit method\n",
    "    def fit(self, X, y):\n",
    "        X, y = check_X_y(X, y)\n",
    "        n, m = X.shape\n",
    "        \n",
    "        _X = np.c_[np.ones((n, 1)), X]\n",
    "        _y = y[:,np.newaxis]\n",
    "        \n",
    "        n, m = _X.shape\n",
    "        \n",
    "        self.weights.append(self.create_weights(m, self.size_hidden))\n",
    "        \n",
    "        for i in range(1,5):\n",
    "            self.weights.append(self.create_weights(self.size_hidden + 1, self.size_hidden))\n",
    "        \n",
    "        self.weights.append(self.create_weights(self.size_hidden + 1, 1))\n",
    "    \n",
    "        n_batches = (n + self.batch_size - 1) // self.batch_size\n",
    "        \n",
    "        for epoch in range(self.epochs):\n",
    "            for b in range(n_batches):\n",
    "                _X_batch = _X[b * self.batch_size : (b + 1) * self.batch_size]\n",
    "                _y_batch = _y[b * self.batch_size : (b + 1) * self.batch_size]\n",
    "                self.activation[6] = self.forward(_X_batch)\n",
    "                dw = self.backward(_y_batch)\n",
    "                self.update(dw)\n",
    "                \n",
    "    # implements the predict method    \n",
    "    def predict(self, X):\n",
    "        n, m = X.shape\n",
    "        X = np.c_[np.ones((n, 1)), X]\n",
    "        return self.forward(X)"
   ]
  },
  {
   "cell_type": "markdown",
   "metadata": {},
   "source": [
    "**d)** Train the estimator you implemented using the training set. Use the trained estimator to predict values for the test set."
   ]
  },
  {
   "cell_type": "code",
   "execution_count": 6,
   "metadata": {},
   "outputs": [],
   "source": [
    "RegressionPercep = MultiLayerPerceptronRegression()\n",
    "RegressionPercep.fit(X_train, y_train)\n",
    "ypredMine = RegressionPercep.predict(X_test)"
   ]
  },
  {
   "cell_type": "markdown",
   "metadata": {},
   "source": [
    "**e)** Use the scikit-learn MLPRegressor estimator. Train it on the training set and generate predictions for the test set."
   ]
  },
  {
   "cell_type": "code",
   "execution_count": 7,
   "metadata": {},
   "outputs": [
    {
     "name": "stderr",
     "output_type": "stream",
     "text": [
      "/home/felipelmc/.local/lib/python3.9/site-packages/sklearn/neural_network/_multilayer_perceptron.py:692: ConvergenceWarning: Stochastic Optimizer: Maximum iterations (100) reached and the optimization hasn't converged yet.\n",
      "  warnings.warn(\n"
     ]
    }
   ],
   "source": [
    "from sklearn.neural_network import MLPRegressor\n",
    "\n",
    "sklPerceptron = MLPRegressor(max_iter=100, batch_size = 100, learning_rate_init=0.0001, \n",
    "                             solver='sgd', activation='logistic')\n",
    "\n",
    "sklPerceptron.fit(X_train, y_train)\n",
    "ypredScikit = sklPerceptron.predict(X_test)"
   ]
  },
  {
   "cell_type": "markdown",
   "metadata": {},
   "source": [
    "**f)** Compare the performance of both models using the mean squared error metric from scikit-learn."
   ]
  },
  {
   "cell_type": "code",
   "execution_count": 8,
   "metadata": {},
   "outputs": [
    {
     "name": "stdout",
     "output_type": "stream",
     "text": [
      "sqrt(MSE) for my model: 5.2. \n",
      "sqrt(MSE) for the Scikit-learn model: 21.41.\n"
     ]
    }
   ],
   "source": [
    "from sklearn.metrics import mean_squared_error\n",
    "\n",
    "mseMyModel = (mean_squared_error(ypredMine, y_test)**(1/2)).round(2)\n",
    "mseScikit = (mean_squared_error(ypredScikit, y_test)**(1/2)).round(2)\n",
    "\n",
    "print(f'sqrt(MSE) for my model: {mseMyModel}. \\nsqrt(MSE) for the Scikit-learn model: {mseScikit}.')"
   ]
  },
  {
   "cell_type": "markdown",
   "metadata": {},
   "source": [
    "## **Part 2:** Multi Layer Perceptron for Classification"
   ]
  },
  {
   "cell_type": "markdown",
   "metadata": {},
   "source": [
    "**a)** Load the data into a pandas DataFrame, and get a scikit-learn compatible dataset. Use the “target” column as the target variable."
   ]
  },
  {
   "cell_type": "code",
   "execution_count": 9,
   "metadata": {},
   "outputs": [],
   "source": [
    "part2 = pd.read_table('Part 2.tsv')\n",
    "\n",
    "# I am going to use a smaller sample of the DataFrame to move on faster\n",
    "part2 = part2.sample(2000)\n",
    "\n",
    "# Split the columns used on X and the target used on y to train the model\n",
    "X = part2[['feat_0', 'feat_1', 'feat_2', 'feat_3']].to_numpy()\n",
    "y = part2['target'].to_numpy()"
   ]
  },
  {
   "cell_type": "markdown",
   "metadata": {},
   "source": [
    "**b)** Make a 70% / 30% split of the dataset for training and testing respectively."
   ]
  },
  {
   "cell_type": "code",
   "execution_count": 10,
   "metadata": {},
   "outputs": [],
   "source": [
    "# Split X and y into training and testing sets\n",
    "X_train, X_test, y_train, y_test = train_test_split(X, y, test_size = 0.3)"
   ]
  },
  {
   "cell_type": "markdown",
   "metadata": {},
   "source": [
    "**c)** Using numpy, create a scikit-learn classifier that implements a multilayer perceptron with the following parameters:\n",
    "* Each hidden layer must have a bias unit.\n",
    "* All activations should be the sigmoid function.\n",
    "* You must use the backpropagation algorithm to calculate the derivatives. \n",
    "* Use mini-batch gradient descent to update the weights.\n",
    "* The parameters of the estimator are the following:\n",
    "\n",
    "    - **hidden_layers_dimensions:** A list of integers that determines the number and dimensionality of the hidden layers. The number of items on the list determine the number of hidden layers. The first element of the list (at index 0) is the dimensionality of the first hidden layer (connected to the input). The last element is the dimensionality of the hidden layer (connected to the output layer). The dimensionality does not include the bias term. The dimensionality of the input and output layers should be inferred from the dimensionality of the data. **For example:** A list [4,3,2] will generate 3 hidden layers with dimensions 4, 3, and 2, respectively. If we count the bias units, the dimensions are 5, 4, 3.\n",
    "\n",
    "    - **learning_rate:** A float number that determines the learning rate used for updating the weights in gradient descent.\n",
    "    - **batch_size:** An integer that determines the number of datapoints that are included in each mini-batch.\n",
    "    - **epochs:** An integer that determines the number of times the training goes through all the datapoints."
   ]
  },
  {
   "cell_type": "code",
   "execution_count": 11,
   "metadata": {},
   "outputs": [],
   "source": [
    "# Here we are going to need another auxiliar function\n",
    "def cost_function(y, y_hat):\n",
    "    return -np.sum(y*(np.log(y_hat)) + (1 - y)*np.log(1 - y_hat)) / y.shape[0]"
   ]
  },
  {
   "cell_type": "code",
   "execution_count": 12,
   "metadata": {},
   "outputs": [],
   "source": [
    "# Implementation of the Multi Layer Perceptron (for Classification) class for 5 hidden layers\n",
    "class MultiLayerPerceptronClassification():\n",
    "    def __init__(self, learning_rate=0.0001, batch_size=32, epochs=100, \n",
    "                 hidden_layers_dimensions=[4, 4, 4, 4]):\n",
    "        self.learning_rate = learning_rate\n",
    "        self.batch_size = batch_size\n",
    "        self.epochs = epochs\n",
    "        self.hidden_layers_dimensions = hidden_layers_dimensions\n",
    "        self.weights = []\n",
    "        self.training_losses = np.zeros(self.epochs)\n",
    "        \n",
    "    def create_weights(self, inputDim, outputDim):\n",
    "        self.inputDim = inputDim\n",
    "        self.outputDim = outputDim\n",
    "        w = np.random.randn(inputDim, outputDim)\n",
    "        return w\n",
    "    \n",
    "    # implements the forward propagation\n",
    "    def forward(self, X):\n",
    "        # instantiates two empty lists for z e h functions, \n",
    "        # which will receive the results of each iteration \n",
    "        # on the forward propagation \n",
    "        self.z = [X]\n",
    "        self.activation = [self.z[-1]]\n",
    "        \n",
    "        for i in range(1, len(self.hidden_layers_dimensions) + 1):\n",
    "            self.z.append(self.activation[i-1] @ self.weights[i-1]) # z_i = activation_i-1 @ W_i-1\n",
    "            SigmoidCalc = sigmoid(self.z[i])\n",
    "            self.activation.append(SigmoidCalc) # activation_i = sigmoid(z_i)\n",
    "            size = self.activation[i].shape[0]\n",
    "            self.activation[i] = np.c_[np.ones((size, 1)), self.activation[i]] # adding the bias unit\n",
    "        \n",
    "        self.z.append(self.activation[-1] @ self.weights[-1]) # z_-1 = activation_-1 @ W_-1\n",
    "        self.activation.append(self.z[-1]) # activation_i-1 = z_-1, and in this case (the output) we do not apply sigmoid\n",
    "        return self.activation[-1]\n",
    "        \n",
    "    # implements the backward propagation    \n",
    "    def backward(self, y_train):\n",
    "        self.difference = [self.activation[len(self.hidden_layers_dimensions)] - y_train] # difference_0^(5) = h_6 - y_train, first error\n",
    "        self.dw = []\n",
    "        \n",
    "        for i in range(len(self.hidden_layers_dimensions)-1, -1, -1):\n",
    "            dotProduct = self.difference[-1] @ self.weights[i+1][1:, :].T # dotProduct = difference_i^(5) @ weights_i+1\n",
    "            dotTodot = dotProduct * sigmoid_derivative(sigmoid(self.z[i+1])) # dotTodot = dotProduct * sigmoid'(z_i+1)\n",
    "            self.difference.append(dotTodot)\n",
    "        \n",
    "        self.difference.reverse()\n",
    "\n",
    "        self.dw = [self.activation[i].T.dot(self.difference[i]) for i in range(len(self.weights))]\n",
    "        \n",
    "        return self.dw\n",
    "    \n",
    "    # implements the update method\n",
    "    def update(self, dw):\n",
    "        self.weights = [w - (self.learning_rate * dw[i]) for i, w in enumerate(self.weights)]\n",
    "        return self.weights\n",
    "    \n",
    "    # implements the fit method\n",
    "    def fit(self, X, y):\n",
    "        X, y = check_X_y(X, y)\n",
    "        m = X.shape[1]\n",
    "        n = X.shape[0]\n",
    "        \n",
    "        _X = np.c_[np.ones((n, 1)), X]\n",
    "        _y = y[:,np.newaxis]\n",
    "        \n",
    "        m = _X.shape[1]\n",
    "        n = _X.shape[0]\n",
    "        \n",
    "        self.weights.append(self.create_weights(m, self.hidden_layers_dimensions[0]))\n",
    "        \n",
    "        for i in range (len(self.hidden_layers_dimensions)-1):\n",
    "            self.weights.append(self.create_weights(self.hidden_layers_dimensions[i]+ 1, self.hidden_layers_dimensions[i+1]))\n",
    "        \n",
    "        self.weights.append(self.create_weights(self.hidden_layers_dimensions[-1]+1, 1))\n",
    "    \n",
    "        n_batches = (n + self.batch_size - 1) // self.batch_size\n",
    "        \n",
    "        for epoch in range(self.epochs):\n",
    "            for b in range(n_batches):\n",
    "                _X_batch = _X[b * self.batch_size : (b + 1) * self.batch_size]\n",
    "                _y_batch = _y[b * self.batch_size : (b + 1) * self.batch_size]\n",
    "                self.activation[len(self.hidden_layers_dimensions)] = self.forward(_X_batch)\n",
    "                dw = self.backward(_y_batch)\n",
    "                self.update(dw)\n",
    "                self.training_losses[epoch] = cost_function(_y_batch, self.activation[len(self.hidden_layers_dimensions)])\n",
    "                \n",
    "    # implements the predict method    \n",
    "    def predict(self, X):\n",
    "        n, m = X.shape\n",
    "        X = np.c_[np.ones((n, 1)), X]\n",
    "        return self.forward(X)\n",
    "    \n",
    "    def predict_proba(self, X):\n",
    "        n, m = X.shape\n",
    "        _X = np.c_[np.ones((n, 1)), X]\n",
    "        \n",
    "        pred_1 = self.forward(_X)\n",
    "        return pred_1"
   ]
  },
  {
   "cell_type": "markdown",
   "metadata": {},
   "source": [
    "**d)** Train the estimator you implemented using the training set. Use the trained estimator to predict values for the test set.\n",
    "* During training, use the following parameters: \n",
    "\n",
    "    - hidden_layers_dimensions = [4,4,4,4] \n",
    "    - learning_rate = 0.0001\n",
    "    - batch_size = 32\n",
    "    - epochs = 100"
   ]
  },
  {
   "cell_type": "code",
   "execution_count": 34,
   "metadata": {},
   "outputs": [],
   "source": [
    "ClassificationPercep = MultiLayerPerceptronClassification()\n",
    "ClassificationPercep.fit(X_train, y_train)\n",
    "ypredMine = ClassificationPercep.predict(X_test) > 0.5"
   ]
  },
  {
   "cell_type": "markdown",
   "metadata": {},
   "source": [
    "**e)** Evaluate the trained model on the test set using the following metrics:\n",
    "* Accuracy \n",
    "* AUC-PR \n",
    "* AUC-ROC"
   ]
  },
  {
   "cell_type": "code",
   "execution_count": 35,
   "metadata": {},
   "outputs": [
    {
     "name": "stdout",
     "output_type": "stream",
     "text": [
      "Accuracy: 61.3% \n",
      "AUC-PR: 78.7% \n",
      "AUC-ROC: 74.2%\n"
     ]
    }
   ],
   "source": [
    "from sklearn.metrics import accuracy_score, average_precision_score, roc_auc_score\n",
    "\n",
    "proba_pred = ClassificationPercep.predict_proba(X_test)\n",
    "\n",
    "accuracy = accuracy_score(ypredMine, y_test).round(3)*100\n",
    "AUC_PR = average_precision_score(y_test, proba_pred).round(3)*100\n",
    "AUC_ROC = roc_auc_score(y_test, proba_pred).round(3)*100\n",
    "\n",
    "print(f'Accuracy: {accuracy}% \\nAUC-PR: {AUC_PR}% \\nAUC-ROC: {AUC_ROC}%')"
   ]
  },
  {
   "cell_type": "markdown",
   "metadata": {},
   "source": [
    "**f)** During each epoch of training, collect the loss, and make a plot with the epoch number in the X axis, and the loss on the Y axis."
   ]
  },
  {
   "cell_type": "code",
   "execution_count": 36,
   "metadata": {},
   "outputs": [
    {
     "data": {
      "image/png": "[encoded data removed]",
      "text/plain": [
       "<Figure size 432x288 with 1 Axes>"
      ]
     },
     "metadata": {
      "needs_background": "light"
     },
     "output_type": "display_data"
    }
   ],
   "source": [
    "plt.plot(ClassificationPercep.training_losses)\n",
    "plt.show()"
   ]
  },
  {
   "cell_type": "markdown",
   "metadata": {},
   "source": [
    "**g)** Print the confusion matrix related to the test set."
   ]
  },
  {
   "cell_type": "code",
   "execution_count": 37,
   "metadata": {},
   "outputs": [
    {
     "data": {
      "text/plain": [
       "<sklearn.metrics._plot.confusion_matrix.ConfusionMatrixDisplay at 0x7f22ca22fd60>"
      ]
     },
     "execution_count": 37,
     "metadata": {},
     "output_type": "execute_result"
    },
    {
     "data": {
      "image/png": "[encoded data removed]",
      "text/plain": [
       "<Figure size 432x288 with 2 Axes>"
      ]
     },
     "metadata": {
      "needs_background": "light"
     },
     "output_type": "display_data"
    }
   ],
   "source": [
    "from sklearn.metrics import confusion_matrix, ConfusionMatrixDisplay\n",
    "\n",
    "ConfusionMatrix = confusion_matrix(y_test, ypredMine)\n",
    "disp = ConfusionMatrixDisplay(ConfusionMatrix)\n",
    "disp.plot()"
   ]
  },
  {
   "cell_type": "markdown",
   "metadata": {},
   "source": [
    "## **Part 3**: Random forest for Classification"
   ]
  },
  {
   "cell_type": "markdown",
   "metadata": {},
   "source": [
    "Download the Census Income dataset (https://archive.ics.uci.edu/ml/datasets/Adult). In this part, you will implement random forests. Be aware that some of the variables in this dataset are nominal (or categorical).\n",
    "\n",
    "Here are the steps that you will need to do:"
   ]
  },
  {
   "cell_type": "markdown",
   "metadata": {},
   "source": [
    "**a)** Load the data into a pandas DataFrame, and get a scikit-learn compatible dataset."
   ]
  },
  {
   "cell_type": "code",
   "execution_count": 17,
   "metadata": {},
   "outputs": [],
   "source": [
    "colnames = ['age', 'workclass', 'fnlwgt', 'education', 'education-num', 'marital-status', 'occupation', 'relationship',\n",
    "            'race', 'sex', 'capital-gain', 'capital-loss', 'hours-per-week', 'native_country', 'salary']\n",
    "\n",
    "part3 = pd.read_csv('Part 3.data', names = colnames, header = None)\n",
    "\n",
    "# I am going to use a smaller sample of the DataFrame to move on faster\n",
    "part3 = part3.sample(2000)\n",
    "\n",
    "# Split the columns used on X and the target used on y to train the model\n",
    "X = part3.loc[:, part3.columns != 'salary'].to_numpy()\n",
    "y = part3['salary'].to_numpy().reshape(-1, 1)"
   ]
  },
  {
   "cell_type": "markdown",
   "metadata": {},
   "source": [
    "**b)** Make a 70% / 30% split of the dataset for training and testing respectively."
   ]
  },
  {
   "cell_type": "code",
   "execution_count": 18,
   "metadata": {},
   "outputs": [],
   "source": [
    "# Split X and y into training and testing sets\n",
    "X_train, X_test, y_train, y_test = train_test_split(X, y, test_size = 0.3)"
   ]
  },
  {
   "cell_type": "markdown",
   "metadata": {},
   "source": [
    "**c)** An implementation of the Random Forest algorithm, as described in Section 8.2.2 of the Witten, James, Hastie & Tibshirani book. You should add the following options:\n",
    "- A parameter **num_features** for the number of predictors to consider at each split\n",
    "- A parameter **num_trees** to control the number of trees in the forest\n",
    "- Parameters for controlling the growth of trees, you need to implement **at least** two of the following:\n",
    "    - Maximum level of the tree\n",
    "    - Minimum number of observations in a node\n",
    "    - Stopping criterion based on the proportion of classes in the node"
   ]
  },
  {
   "cell_type": "code",
   "execution_count": 19,
   "metadata": {},
   "outputs": [],
   "source": [
    "# here we write a model to decide the optimal splits and predict the salary of the people on the dataset\n",
    "# the splits must maximize info gain using entropy, which is given by the summation of (-p(x_i)*log(p(x_i))\n",
    "# we need to substract the combined entropy of the child nodes from the entropy of the parent node (this is the info gain)\n",
    "# we will need to do bootstrapping and feature selection\n",
    "\n",
    "# as it is a tree, we need nodes\n",
    "class Node():\n",
    "    def __init__(self, feature_index=None, limit=None, left=None, right=None, ig=None, value=None):\n",
    "        self.feature_index = feature_index\n",
    "        self.limit = limit\n",
    "        self.left = left\n",
    "        self.right = right\n",
    "        self.ig = ig\n",
    "        self.value = value\n",
    "\n",
    "\n",
    "class DecisionTree():\n",
    "    def __init__(self, max_level=3, min_n_observations=3):\n",
    "        self.root = None,\n",
    "        self.max_level = max_level\n",
    "        self.min_n_observations = min_n_observations\n",
    "    \n",
    "    def newTree(self, df, curr_depth = 0):\n",
    "        X = df[:, :-1]\n",
    "        y = df[:, -1]\n",
    "        samples, features = X.shape\n",
    "        \n",
    "        if samples >= self.min_n_observations and curr_depth <= self.max_level:\n",
    "            maxSplit = self.maximizedSplit(df, features)\n",
    "            \n",
    "            if 'ig' not in maxSplit:\n",
    "                maxSplit['ig'] = -10000\n",
    "            \n",
    "            if maxSplit['ig'] > 0:\n",
    "                left_subtree = self.newTree(maxSplit['left_df'], curr_depth+1)\n",
    "                right_subtree = self.newTree(maxSplit['right_df'], curr_depth+1)\n",
    "                return Node(maxSplit['feature_index'], maxSplit['limit'], \n",
    "                            left_subtree, right_subtree, maxSplit['ig'])\n",
    "\n",
    "        return Node(value = max(list(y), key=list(y).count))\n",
    "\n",
    "    def maximizedSplit(self, df, features):\n",
    "        maxSplit = {}\n",
    "        max_ig = -10000\n",
    "        \n",
    "        for feature_index in range(features):\n",
    "            feature_values = df[:, feature_index]\n",
    "            unique_values = np.unique(feature_values)\n",
    "            \n",
    "            for limit in unique_values:\n",
    "                left_df, right_df = self.split(df, feature_index, limit)\n",
    "                \n",
    "                if left_df.shape[0] > 0 and right_df.shape[0] > 0:\n",
    "                    y = df[:, -1]\n",
    "                    left_y = left_df[:, -1]\n",
    "                    right_y = right_df[:, -1]\n",
    "                    curr_ig = self.ig(y, left_y, right_y)\n",
    "                    \n",
    "                    if curr_ig > max_ig:\n",
    "                        max_ig = curr_ig\n",
    "                        maxSplit = {'feature_index': feature_index, 'limit': limit, \n",
    "                                      'left_df': left_df, 'right_df': right_df, \n",
    "                                      'ig': curr_ig}\n",
    "                        \n",
    "        return maxSplit\n",
    "    \n",
    "    def split(self, df, feature_index, limit):\n",
    "        left_df = np.array([row for row in df if row[feature_index] <= limit])\n",
    "        right_df = np.array([row for row in df if row[feature_index] > limit])\n",
    "        return left_df, right_df\n",
    "    \n",
    "    def ig(self, parent, left_child, right_child):\n",
    "        wleft = len(left_child) / len(parent)\n",
    "        wright = len(right_child) / len(parent)\n",
    "        \n",
    "        EntropyParent = self.entropy(parent)\n",
    "        EntropyLeft = self.entropy(left_child)\n",
    "        EntropyRight = self.entropy(right_child)\n",
    "        \n",
    "        return EntropyParent - (wleft*EntropyLeft + wright*EntropyRight)\n",
    "    \n",
    "    def entropy(self, y):\n",
    "        class_labels = np.unique(y)\n",
    "        entropy = 0\n",
    "        \n",
    "        for cls in class_labels:\n",
    "            p_cls = len(y[y == cls]) / len(y)\n",
    "            entropy += -p_cls*np.log2(p_cls)\n",
    "        return entropy\n",
    "    \n",
    "    def fit(self, X, y):\n",
    "        df = np.c_[X, y]\n",
    "        self.root = self.newTree(df)\n",
    "        \n",
    "    def predict(self, X):\n",
    "        preds = [self.make_prediction(x, self.root) for x in X]\n",
    "        return preds\n",
    "        \n",
    "    def make_prediction(self, x, tree):\n",
    "        if tree.value != None:\n",
    "            return tree.value\n",
    "        \n",
    "        feature_value = x[tree.feature_index]\n",
    "        if feature_value <= tree.limit:\n",
    "            return self.make_prediction(x, tree.left)\n",
    "        else:\n",
    "            return self.make_prediction(x, tree.right)\n",
    "\n",
    "class RandomForest():\n",
    "    def __init__(self, num_trees=10, num_features=3, max_level=3, min_n_observations=3):\n",
    "        self.num_trees = num_trees\n",
    "        self.num_features = num_features\n",
    "        self.max_level = max_level\n",
    "        self.min_n_observations = min_n_observations\n",
    "        self.trees = []\n",
    "        self.maxLabel = []\n",
    "    \n",
    "    def labelMode(self, y):\n",
    "        return dict(zip(*np.unique(y, return_counts=True)))\n",
    "    \n",
    "    def boostrap(self, X, y):\n",
    "        df = np.c_[X, y]\n",
    "        samples = df.shape[0]\n",
    "        \n",
    "        rows = np.random.randint(len(df), size=samples)\n",
    "        X_sample = X[rows, :]\n",
    "        y_sample = y[rows]\n",
    "        return X_sample, y_sample\n",
    "    \n",
    "    def aggregate(self, X_sample, num_features):\n",
    "        m = X_sample.shape[1]\n",
    "        ideal = np.sqrt(num_features).round().astype(int)\n",
    "        columns = np.random.choice(m, size=(m-ideal), replace=False)\n",
    "        X[:,columns] = 0\n",
    "        return X_sample\n",
    "        \n",
    "    def fit(self, X, y):\n",
    "        for i in range(self.num_trees):\n",
    "            X_sample, y_sample = self.boostrap(X, y)\n",
    "            X_sample = self.aggregate(X_sample, self.num_features)\n",
    "            tree = DecisionTree(self.max_level, self.min_n_observations)\n",
    "            tree.fit(X_sample, y_sample)\n",
    "            self.trees.append(tree)\n",
    "    \n",
    "    def predict(self, X):\n",
    "        preds = np.array([tree.predict(X) for tree in self.trees])\n",
    "        preds = np.swapaxes(preds, 0, 1)\n",
    "        \n",
    "        labels = []\n",
    "        for pred in preds:\n",
    "            labels.append(self.labelMode(pred))\n",
    "        labels = np.array(labels)\n",
    "        \n",
    "        for label in labels:\n",
    "            maximize = max(label, key = label.get)\n",
    "            self.maxLabel.append(maximize)\n",
    "        return np.array(self.maxLabel).reshape(-1,1) \n",
    "\n",
    "    def predict_proba(self, X):\n",
    "        preds = np.array([tree.predict(X) for tree in self.trees])\n",
    "        preds = np.swapaxes(preds, 0, 1)\n",
    "        return preds"
   ]
  },
  {
   "cell_type": "code",
   "execution_count": 20,
   "metadata": {},
   "outputs": [
    {
     "name": "stdout",
     "output_type": "stream",
     "text": [
      "85.0%\n"
     ]
    }
   ],
   "source": [
    "RandForest = RandomForest()\n",
    "RandForest.fit(X_train, y_train)\n",
    "prediction = RandForest.predict(X_test)\n",
    "\n",
    "# checking the accuracy\n",
    "accuracy = accuracy_score(prediction, y_test).round(3) * 100\n",
    "print(f'{accuracy}%')"
   ]
  },
  {
   "cell_type": "markdown",
   "metadata": {},
   "source": [
    "## **Part 4** – Performance comparison"
   ]
  },
  {
   "cell_type": "markdown",
   "metadata": {},
   "source": [
    "This part relies on the models you implemented in Parts 2 and 3. You should use the dataset from Part 2.\n",
    "\n",
    "Here are the steps that you will need to do:"
   ]
  },
  {
   "cell_type": "markdown",
   "metadata": {},
   "source": [
    "**a)** Use your classifiers (multi-layer perceptron classifier and random forest).\n",
    "\n",
    "- Train them on the training set.\n",
    "\n",
    "- Make predictions on the test set"
   ]
  },
  {
   "cell_type": "code",
   "execution_count": 21,
   "metadata": {},
   "outputs": [],
   "source": [
    "part2 = pd.read_table('Part 2.tsv')\n",
    "\n",
    "# I am going to use a smaller sample of the DataFrame to move on faster\n",
    "part2 = part2.sample(2000)\n",
    "\n",
    "# Split the columns used on X and the target used on y to train the model\n",
    "X = part2[['feat_0', 'feat_1', 'feat_2', 'feat_3']].to_numpy()\n",
    "y = part2['target'].to_numpy()\n",
    "\n",
    "X_train, X_test, y_train, y_test = train_test_split(X, y, test_size = 0.3)"
   ]
  },
  {
   "cell_type": "code",
   "execution_count": 30,
   "metadata": {},
   "outputs": [],
   "source": [
    "ClassificPercep = MultiLayerPerceptronClassification()\n",
    "ClassificPercep.fit(X_train, y_train)\n",
    "predictionMultiLayerPerceptron = ClassificPercep.predict(X_test) > 0.5"
   ]
  },
  {
   "cell_type": "code",
   "execution_count": 23,
   "metadata": {},
   "outputs": [],
   "source": [
    "RandForest = RandomForest()\n",
    "RandForest.fit(X_train, y_train)\n",
    "predictionRandomForest = RandForest.predict(X_test)"
   ]
  },
  {
   "cell_type": "markdown",
   "metadata": {},
   "source": [
    "**b)** Choose any 3 classifiers from scikit-learn and repeat steps in a) for each classifier. You can find a list of classifiers on the scikit-learn documentation."
   ]
  },
  {
   "cell_type": "code",
   "execution_count": 24,
   "metadata": {},
   "outputs": [
    {
     "name": "stderr",
     "output_type": "stream",
     "text": [
      "/home/felipelmc/.local/lib/python3.9/site-packages/sklearn/discriminant_analysis.py:878: UserWarning: Variables are collinear\n",
      "  warnings.warn(\"Variables are collinear\")\n"
     ]
    }
   ],
   "source": [
    "from sklearn.discriminant_analysis import QuadraticDiscriminantAnalysis\n",
    "QDA = QuadraticDiscriminantAnalysis()\n",
    "QDA.fit(X_train, y_train)\n",
    "predictionQDA = QDA.predict(X_test)"
   ]
  },
  {
   "cell_type": "code",
   "execution_count": 25,
   "metadata": {},
   "outputs": [],
   "source": [
    "from sklearn.svm import SVC\n",
    "SVC = SVC(probability=True)\n",
    "SVC.fit(X_train, y_train)\n",
    "predictionSVC = SVC.predict(X_test)"
   ]
  },
  {
   "cell_type": "code",
   "execution_count": 26,
   "metadata": {},
   "outputs": [],
   "source": [
    "from sklearn.gaussian_process import GaussianProcessClassifier\n",
    "GPC = GaussianProcessClassifier()\n",
    "GPC.fit(X_train, y_train)\n",
    "predictionGPC = GPC.predict(X_test)"
   ]
  },
  {
   "cell_type": "markdown",
   "metadata": {},
   "source": [
    "**c)** You will have obtained 5 sets of predictions from all the models you trained. Use these predictions and the labels from the test set to calculate the performance of each model using the following performance metrics:\n",
    "- Precision\n",
    "- Recall\n",
    "- AUC-ROC\n",
    "- AUC-PR"
   ]
  },
  {
   "cell_type": "code",
   "execution_count": 31,
   "metadata": {},
   "outputs": [
    {
     "name": "stdout",
     "output_type": "stream",
     "text": [
      "1) Multi-Layer Perceptron for Classification: \n",
      "Precision: 80.30000000000001%\n",
      "Recall: 61.9%\n",
      "AUC_PR: 54.1%\n",
      "AUC_ROC: 51.300000000000004%\n",
      "\n",
      "2) Random Forest: \n",
      "Precision: 82.6%\n",
      "Recall: 91.8%\n",
      "AUC_PR_RandomForest: 84.6%\n",
      "AUC_ROC_RandomForest: 87.2%\n",
      "\n",
      "3) Quadratic Discriminant Analysis: \n",
      "Precision: 50.3%\n",
      "Recall: 76.5%\n",
      "AUC_PR: 73.5%\n",
      "AUC_ROC: 79.2%\n",
      "\n",
      "4) SVC: \n",
      "Precision: 85.8%\n",
      "Recall: 90.5%\n",
      "AUC-PR: 94.19999999999999%\n",
      "AUC-ROC: 95.5%\n",
      "\n",
      "5) Gaussian Process Classifier: \n",
      "Precision: 92.60000000000001%\n",
      "Recall: 88.9%\n",
      "AUC-PR: 95.19999999999999%\n",
      "AUC-ROC: 96.5%\n"
     ]
    }
   ],
   "source": [
    "from sklearn.metrics import recall_score, precision_score\n",
    "\n",
    "# Perceptron\n",
    "probaPerceptron = ClassificationPercep.predict_proba(X_test)\n",
    "Precision_Perceptron = precision_score(predictionMultiLayerPerceptron, y_test).round(3)*100\n",
    "Recall_Perceptron = recall_score(predictionMultiLayerPerceptron, y_test).round(3)*100\n",
    "AUC_PR_Perceptron = average_precision_score(y_test, proba_pred).round(3)*100\n",
    "AUC_ROC_Perceptron = roc_auc_score(y_test, proba_pred).round(3)*100\n",
    "print(f'1) Multi-Layer Perceptron for Classification: \\nPrecision: {Precision_Perceptron}%\\nRecall: {Recall_Perceptron}%\\nAUC_PR: {AUC_PR_Perceptron}%\\nAUC_ROC: {AUC_ROC_Perceptron}%\\n')\n",
    "\n",
    "# RandomForest\n",
    "probaRandomForest = RandForest.predict_proba(X_test)[:, 1]\n",
    "Precision_RandomForest = precision_score(predictionRandomForest, y_test).round(3)*100\n",
    "Recall_RandomForest = recall_score(predictionRandomForest, y_test).round(3)*100\n",
    "AUC_PR_RandomForest = average_precision_score(y_test, probaRandomForest).round(3)*100\n",
    "AUC_ROC_RandomForest = roc_auc_score(y_test, probaRandomForest).round(3)*100\n",
    "print(f'2) Random Forest: \\nPrecision: {Precision_RandomForest}%\\nRecall: {Recall_RandomForest}%\\nAUC_PR_RandomForest: {AUC_PR_RandomForest}%\\nAUC_ROC_RandomForest: {AUC_ROC_RandomForest}%\\n')\n",
    "\n",
    "# QuadraticDiscriminantAnalysis\n",
    "probaQuadraticDiscriminantAnalysis = QDA.predict_proba(X_test)[:, 1]\n",
    "Precision_QDA = precision_score(predictionQDA, y_test).round(3)*100\n",
    "Recall_QDA = recall_score(predictionQDA, y_test).round(3)*100\n",
    "AUC_PR_QDA = average_precision_score(y_test, probaQuadraticDiscriminantAnalysis).round(3)*100\n",
    "AUC_ROC_QDA = roc_auc_score(y_test, probaQuadraticDiscriminantAnalysis).round(3)*100\n",
    "print(f'3) Quadratic Discriminant Analysis: \\nPrecision: {Precision_QDA}%\\nRecall: {Recall_QDA}%\\nAUC_PR: {AUC_PR_QDA}%\\nAUC_ROC: {AUC_ROC_QDA}%\\n')\n",
    "\n",
    "# SVC\n",
    "probaSVC = SVC.predict_proba(X_test)[:, 1]\n",
    "Precision_SVC = precision_score(predictionSVC, y_test).round(3)*100\n",
    "Recall_SVC = recall_score(predictionSVC, y_test).round(3)*100\n",
    "AUC_PR_SVC = average_precision_score(y_test, probaSVC).round(3)*100\n",
    "AUC_ROC_SVC = roc_auc_score(y_test, probaSVC).round(3)*100\n",
    "print(f'4) SVC: \\nPrecision: {Precision_SVC}%\\nRecall: {Recall_SVC}%\\nAUC-PR: {AUC_PR_SVC}%\\nAUC-ROC: {AUC_ROC_SVC}%\\n')\n",
    "\n",
    "# GaussianProcessClassifier\n",
    "probaGPC = GPC.predict_proba(X_test)[:, 1]\n",
    "Precision_GPC = precision_score(predictionGPC, y_test).round(3)*100\n",
    "Recall_GPC = recall_score(predictionGPC, y_test).round(3)*100\n",
    "AUC_PR_GPC = average_precision_score(y_test, probaGPC).round(3)*100\n",
    "AUC_ROC_GPC = roc_auc_score(y_test, probaGPC).round(3)*100\n",
    "print(f'5) Gaussian Process Classifier: \\nPrecision: {Precision_GPC}%\\nRecall: {Recall_GPC}%\\nAUC-PR: {AUC_PR_GPC}%\\nAUC-ROC: {AUC_ROC_GPC}%')"
   ]
  },
  {
   "cell_type": "markdown",
   "metadata": {},
   "source": [
    "**d)** Create a comparison report. Your code will:\n",
    "\n",
    "- Print a table with values of the performance metric (columns) for each model (rows) on the test set."
   ]
  },
  {
   "cell_type": "code",
   "execution_count": 32,
   "metadata": {},
   "outputs": [
    {
     "data": {
      "text/html": [
       "<div>\n",
       "<style scoped>\n",
       "    .dataframe tbody tr th:only-of-type {\n",
       "        vertical-align: middle;\n",
       "    }\n",
       "\n",
       "    .dataframe tbody tr th {\n",
       "        vertical-align: top;\n",
       "    }\n",
       "\n",
       "    .dataframe thead th {\n",
       "        text-align: right;\n",
       "    }\n",
       "</style>\n",
       "<table border=\"1\" class=\"dataframe\">\n",
       "  <thead>\n",
       "    <tr style=\"text-align: right;\">\n",
       "      <th></th>\n",
       "      <th>Model</th>\n",
       "      <th>Precision</th>\n",
       "      <th>Recall</th>\n",
       "      <th>AUC-PR</th>\n",
       "      <th>AUC-ROC</th>\n",
       "    </tr>\n",
       "  </thead>\n",
       "  <tbody>\n",
       "    <tr>\n",
       "      <th>0</th>\n",
       "      <td>Multi-Layer Perceptron (Classification)</td>\n",
       "      <td>80.3</td>\n",
       "      <td>61.9</td>\n",
       "      <td>54.1</td>\n",
       "      <td>51.3</td>\n",
       "    </tr>\n",
       "    <tr>\n",
       "      <th>1</th>\n",
       "      <td>Random Forest</td>\n",
       "      <td>82.6</td>\n",
       "      <td>91.8</td>\n",
       "      <td>84.6</td>\n",
       "      <td>87.2</td>\n",
       "    </tr>\n",
       "    <tr>\n",
       "      <th>2</th>\n",
       "      <td>Quadratic Discriminant Analysis</td>\n",
       "      <td>50.3</td>\n",
       "      <td>76.5</td>\n",
       "      <td>73.5</td>\n",
       "      <td>79.2</td>\n",
       "    </tr>\n",
       "    <tr>\n",
       "      <th>3</th>\n",
       "      <td>SVC</td>\n",
       "      <td>85.8</td>\n",
       "      <td>90.5</td>\n",
       "      <td>94.2</td>\n",
       "      <td>95.5</td>\n",
       "    </tr>\n",
       "    <tr>\n",
       "      <th>4</th>\n",
       "      <td>Gaussian Process Classifier</td>\n",
       "      <td>92.6</td>\n",
       "      <td>88.9</td>\n",
       "      <td>95.2</td>\n",
       "      <td>96.5</td>\n",
       "    </tr>\n",
       "  </tbody>\n",
       "</table>\n",
       "</div>"
      ],
      "text/plain": [
       "                                     Model  Precision  Recall  AUC-PR  AUC-ROC\n",
       "0  Multi-Layer Perceptron (Classification)       80.3    61.9    54.1     51.3\n",
       "1                            Random Forest       82.6    91.8    84.6     87.2\n",
       "2          Quadratic Discriminant Analysis       50.3    76.5    73.5     79.2\n",
       "3                                      SVC       85.8    90.5    94.2     95.5\n",
       "4              Gaussian Process Classifier       92.6    88.9    95.2     96.5"
      ]
     },
     "execution_count": 32,
     "metadata": {},
     "output_type": "execute_result"
    }
   ],
   "source": [
    "data = [{'Model': 'Multi-Layer Perceptron (Classification)', 'Precision': Precision_Perceptron, 'Recall': Recall_Perceptron, 'AUC-PR': AUC_PR_Perceptron, 'AUC-ROC': AUC_ROC_Perceptron},\n",
    "        {'Model': 'Random Forest', 'Precision': Precision_RandomForest, 'Recall': Recall_RandomForest, 'AUC-PR': AUC_PR_RandomForest, 'AUC-ROC': AUC_ROC_RandomForest},\n",
    "        {'Model': 'Quadratic Discriminant Analysis', 'Precision': Precision_QDA, 'Recall': Recall_QDA, 'AUC-PR': AUC_PR_QDA, 'AUC-ROC': AUC_ROC_QDA},\n",
    "        {'Model': 'SVC', 'Precision': Precision_SVC, 'Recall': Recall_SVC, 'AUC-PR': AUC_PR_SVC, 'AUC-ROC': AUC_ROC_SVC},\n",
    "        {'Model': 'Gaussian Process Classifier', 'Precision': Precision_GPC, 'Recall': Recall_GPC, 'AUC-PR': AUC_PR_GPC, 'AUC-ROC': AUC_ROC_GPC}]\n",
    "\n",
    "performance = pd.DataFrame(data)\n",
    "performance"
   ]
  },
  {
   "cell_type": "markdown",
   "metadata": {},
   "source": [
    "- Make a single figure containing 2 subplots. In the first subplot, you will plot the ROC curves for each model. In the second subplot, you will plot the PR curves for each model."
   ]
  },
  {
   "cell_type": "code",
   "execution_count": 33,
   "metadata": {},
   "outputs": [
    {
     "data": {
      "text/plain": [
       "<matplotlib.legend.Legend at 0x7f22ca2c5a30>"
      ]
     },
     "execution_count": 33,
     "metadata": {},
     "output_type": "execute_result"
    },
    {
     "data": {
      "image/png": "[encoded data removed]",
      "text/plain": [
       "<Figure size 1800x360 with 2 Axes>"
      ]
     },
     "metadata": {
      "needs_background": "light"
     },
     "output_type": "display_data"
    }
   ],
   "source": [
    "from sklearn.metrics import roc_curve, precision_recall_curve\n",
    "fig, ax = plt.subplots(1, 2, figsize = (25, 5))\n",
    "\n",
    "for i in [probaPerceptron, probaRandomForest, probaSVC, probaQuadraticDiscriminantAnalysis, probaGPC]:\n",
    "    r, o, c = roc_curve(y_test, i)\n",
    "    ax[0].plot(r, o)\n",
    "\n",
    "for i in [probaPerceptron, probaRandomForest, probaSVC, probaQuadraticDiscriminantAnalysis, probaGPC]:\n",
    "    precision, recall, limits = precision_recall_curve(y_test, i)\n",
    "    ax[1].plot(recall, precision)\n",
    "\n",
    "ax[0].set_title('ROC Curves')\n",
    "ax[0].legend(['Multi-Layer Perceptron', 'Random Forest', 'SVC', 'QDA', 'GPC'], loc = 'lower right')\n",
    "ax[1].set_title('Precision-Recall Curves')\n",
    "ax[1].legend(['Multi-Layer Perceptron', 'Random Forest', 'SVC', 'QDA', 'GPC'])"
   ]
  }
 ],
 "metadata": {
  "interpreter": {
   "hash": "31f2aee4e71d21fbe5cf8b01ff0e069b9275f58929596ceb00d14d90e3e16cd6"
  },
  "kernelspec": {
   "display_name": "Python 3.9.7 64-bit",
   "language": "python",
   "name": "python3"
  },
  "language_info": {
   "codemirror_mode": {
    "name": "ipython",
    "version": 3
   },
   "file_extension": ".py",
   "mimetype": "text/x-python",
   "name": "python",
   "nbconvert_exporter": "python",
   "pygments_lexer": "ipython3",
   "version": "3.10.6"
  },
  "orig_nbformat": 4
 },
 "nbformat": 4,
 "nbformat_minor": 2
}
